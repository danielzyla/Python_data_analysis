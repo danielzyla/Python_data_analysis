{
 "cells": [
  {
   "cell_type": "markdown",
   "metadata": {},
   "source": [
    "# Dodanie hash wyś\n",
    "fddfdfkjhdsfjldsjflkdjg dsl dljgff j; g g s *dodaje gwiazdki żeby wyróżnić kursywa* gfg fg fd **po dwie gwiazdki żeby pogrubić** sfdfdfdf\n",
    "![Logo pandas](https://pandas.pydata.org/_static/pandas_logo.png)\n",
    "\n",
    "## Dodanie dwóch hashy\n",
    "kolejny teskt\n",
    "- fnklfnlf (dodanie myślnika daje taki efekt)\n",
    "- fdhkfldl\n",
    "- nlkndflsnl n\n",
    "## Dodanie dwóch hashy\n",
    "kolejna liusta\n",
    "1. dfkdfldsf (mozna też numerować)\n",
    "2. dfgfgddf __można też podkreslniki dodać żeby wytłuscic lub kursywę zrobić__\n",
    "\n",
    "### Dodaje trzy hashe\n",
    "\n",
    "[więcej szczegółów](https://pandas.pydata.org/)\n",
    "\n",
    "    if i in num:\n",
    "        print(i)\n",
    "\n",
    "2\\*2\\*2\\*2"
   ]
  },
  {
   "cell_type": "markdown",
   "metadata": {},
   "source": [
    "$$2^e$$\n",
    "\n",
    "język LaTex (czyt. latech]"
   ]
  },
  {
   "cell_type": "markdown",
   "metadata": {},
   "source": [
    "|Id|col1|col2|col3|\n",
    "|-|-|-|-|\n",
    "|1|var|cat|dog|"
   ]
  },
  {
   "cell_type": "code",
   "execution_count": null,
   "metadata": {},
   "outputs": [],
   "source": []
  },
  {
   "cell_type": "code",
   "execution_count": null,
   "metadata": {},
   "outputs": [],
   "source": []
  }
 ],
 "metadata": {
  "kernelspec": {
   "display_name": "Python 3",
   "language": "python",
   "name": "python3"
  },
  "language_info": {
   "codemirror_mode": {
    "name": "ipython",
    "version": 3
   },
   "file_extension": ".py",
   "mimetype": "text/x-python",
   "name": "python",
   "nbconvert_exporter": "python",
   "pygments_lexer": "ipython3",
   "version": "3.7.4"
  }
 },
 "nbformat": 4,
 "nbformat_minor": 2
}
